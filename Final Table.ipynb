{
 "cells": [
  {
   "cell_type": "markdown",
   "metadata": {},
   "source": [
    "### Import of required libraries and modules"
   ]
  },
  {
   "cell_type": "code",
   "execution_count": 1,
   "metadata": {},
   "outputs": [],
   "source": [
    "import pandas as pd\n",
    "import numpy as np\n",
    "import datetime\n",
    "import requests\n",
    "from traffic.data import opensky\n",
    "from shapely.geometry import Polygon, Point\n",
    "from traffic.core import Traffic\n",
    "from traffic.data import airports\n",
    "from traffic.data.weather import metar\n",
    "from traffic.data import aircraft\n",
    "from astral import LocationInfo\n",
    "from astral.sun import sun\n",
    "from datetime import timedelta\n",
    "from matplotlib import pyplot as plt\n",
    "from scipy.stats import norm\n"
   ]
  },
  {
   "cell_type": "markdown",
   "metadata": {},
   "source": [
    "##### Creating an empty table with the required columns"
   ]
  },
  {
   "cell_type": "code",
   "execution_count": null,
   "metadata": {},
   "outputs": [],
   "source": [
    "table = pd.DataFrame(columns=[\n",
    "    'Flight (Callsign)',\n",
    "    'Flight ID',\n",
    "    'ICAO Code',\n",
    "    'A/C Type',\n",
    "    'ICAO 24',\n",
    "    'ICAO Aircraft Type', # Airline\n",
    "    'Propulsion Type',\n",
    "    'Number of Engines',\n",
    "    'MALW [kg]',\n",
    "    'ICAO Weight Turbulence Category',\n",
    "    'Speed at TH [kt]',\n",
    "    'Geoaltitude at TH [ft]',\n",
    "    'Specific Energy [J/kg]',\n",
    "    'Energy at MALW [MJ]',\n",
    "    'Time at TH',\n",
    "    'Time of Go-around',\n",
    "    'Hour sin',\n",
    "    'Hour cos',\n",
    "    'Minute sin',\n",
    "    'Minute cos',\n",
    "    'Day of week sin',\n",
    "    'Day of week cos',\n",
    "    'Month sin',\n",
    "    'Month cos',\n",
    "    'Day/Night',\n",
    "    'Time from Previous Landing [s]',\n",
    "    'Temperature [°C]',\n",
    "    'Wind speed [kt]',\n",
    "    'Wind direction [°]',\n",
    "    'Wind direction sin',\n",
    "    'Wind direction cos',\n",
    "    'No Wind',\n",
    "    'Wind Variable',\n",
    "    'Headwind [kt]',\n",
    "    'Crosswind [kt]',\n",
    "    'Visibility Category',\n",
    "    'Precipitation [mm]',\n",
    "    'Meteo idx',\n",
    "    'Precipitation idx',\n",
    "    'Arrival Traffic Intensity', # Old version\n",
    "    'Arrival Traffic Intensity with go-arounds', # Arrival Traffic Intensity \n",
    "    'Emergency',\n",
    "    'Previous Flight',\n",
    "    'ROT Previous Flight [s]',\n",
    "    'Average ROT Previous 5 Flight [s]',\n",
    "    'Average ROT Previous Flight (Intensity) [s]', # Average ROT past 15 min [s]\n",
    "    'ROT Previous Flight same A/C Type [s]',\n",
    "    'Average ROT Previous 5 Flights same A/C Type [s]',\n",
    "    'Average ROT Previous Flight same A/C Type Total [s]',\n",
    "    'Not Vacated',\n",
    "    'Short ROT',\n",
    "    'ROT [s]'])\n",
    "table"
   ]
  },
  {
   "cell_type": "code",
   "execution_count": null,
   "metadata": {},
   "outputs": [],
   "source": [
    "columns = table.columns\n",
    "columns"
   ]
  },
  {
   "cell_type": "markdown",
   "metadata": {},
   "source": [
    "##### Creating a polygon above of rwy 14 in LSZH"
   ]
  },
  {
   "cell_type": "code",
   "execution_count": 4,
   "metadata": {},
   "outputs": [],
   "source": [
    "# Coordinates of Runway edges\n",
    "coordinates = [\n",
    "    (47.482343, 8.536430), #RWY 14 right\n",
    "    (47.481882, 8.535696), #RWY 14 left\n",
    "    (47.461058, 8.564121), #RWY 32 left\n",
    "    (47.461527, 8.564832)  #RWY 32 right\n",
    "]\n",
    "\n",
    "#Creating rectangle as polygon\n",
    "runway_polygon = Polygon(coordinates)"
   ]
  },
  {
   "cell_type": "markdown",
   "metadata": {},
   "source": [
    "##### Creating a polygon for the vacated area of RWY 14 (Go-Around Polygon)"
   ]
  },
  {
   "cell_type": "code",
   "execution_count": 5,
   "metadata": {},
   "outputs": [],
   "source": [
    "# Coordinates of Vacated Polygon edges\n",
    "coordinates2 = [\n",
    "    (47.467434, 8.555398),  # oben rechts\n",
    "    (47.466151, 8.552850),  # oben links\n",
    "    (47.458168, 8.560982),  # unten links\n",
    "    (47.460002, 8.565674),  # unten rechts\n",
    "]\n",
    "\n",
    "\n",
    "#Creating rectangle as polygon\n",
    "runway_vacated_polygon = Polygon(coordinates2)"
   ]
  },
  {
   "cell_type": "markdown",
   "metadata": {},
   "source": [
    "##### Creating a polygon after RWY 14"
   ]
  },
  {
   "cell_type": "code",
   "execution_count": 6,
   "metadata": {},
   "outputs": [],
   "source": [
    "# Coordinates of Go-Around Polygon edges\n",
    "coordinates3 = [\n",
    "    (47.461967, 8.566471),  # oben rechts\n",
    "    (47.460347, 8.563795),  # oben links\n",
    "    (47.458375, 8.566194),  # unten links\n",
    "    (47.460188, 8.568865),  # unten rechts\n",
    "]\n",
    "\n",
    "\n",
    "#Creating rectangle as polygon\n",
    "runway_end_polygon = Polygon(coordinates3)"
   ]
  },
  {
   "cell_type": "markdown",
   "metadata": {},
   "source": [
    "##### Function to correct format of timestamps"
   ]
  },
  {
   "cell_type": "code",
   "execution_count": 7,
   "metadata": {},
   "outputs": [],
   "source": [
    "def convert_timestamp(x):\n",
    "    if isinstance(x, (float, int)) and x > 1e9:  # Convert to unix timestamps if float or int.\n",
    "        return pd.to_datetime(x, unit='s', errors='coerce')\n",
    "    elif isinstance(x, pd.Timestamp): # If x is alreardy a pandas timestamp, x will be returned\n",
    "        return x\n",
    "    else:\n",
    "        return pd.NaT  # Invalid Value will be converted to Not a Timestamp"
   ]
  },
  {
   "cell_type": "markdown",
   "metadata": {},
   "source": [
    "##### Define Importdata"
   ]
  },
  {
   "cell_type": "code",
   "execution_count": 8,
   "metadata": {},
   "outputs": [],
   "source": [
    "start = \"2024-06-30 22:00\"\n",
    "stop = \"2024-07-31 22:00\"\n",
    "airport_str='LSZH'\n",
    "go_around_count = 0"
   ]
  },
  {
   "cell_type": "markdown",
   "metadata": {},
   "source": [
    "##### Import Flightlist"
   ]
  },
  {
   "cell_type": "code",
   "execution_count": 9,
   "metadata": {},
   "outputs": [],
   "source": [
    "flight_list = opensky.flightlist(start=start, stop=stop, arrival_airport=airport_str)\n",
    "icao24 = flight_list.icao24"
   ]
  },
  {
   "cell_type": "markdown",
   "metadata": {},
   "source": [
    "##### Import Flightdata"
   ]
  },
  {
   "cell_type": "code",
   "execution_count": null,
   "metadata": {},
   "outputs": [],
   "source": [
    "timestamps = pd.date_range(start, stop, freq=\"12h\")\n",
    "data = []\n",
    "for t1, t2 in zip(timestamps[:-1], timestamps[1:]):\n",
    "        print(t1, t2)\n",
    "        tmp = opensky.history(start=str(t1), stop=str(t2), bounds=airports[airport_str].shape.convex_hull.buffer(0.15), icao24=icao24, return_flight=True)\n",
    "        if tmp is not None:\n",
    "            data.append(tmp.data)\n",
    "        \n",
    " \n",
    "trajs = pd.concat(data)\n",
    "trajs = Traffic(trajs)"
   ]
  },
  {
   "cell_type": "markdown",
   "metadata": {},
   "source": [
    "##### Correct data format of imported flight data"
   ]
  },
  {
   "cell_type": "code",
   "execution_count": 11,
   "metadata": {},
   "outputs": [],
   "source": [
    "# Make sure data format is \"correct\"\n",
    "trajs.data['timestamp'] = trajs.data['timestamp'].apply(convert_timestamp)\n",
    "trajs.data['hour'] = trajs.data['hour'].apply(convert_timestamp)\n",
    "trajs.data['onground'] = trajs.data['onground'].astype(np.bool_)\n",
    "trajs.data['alert'] = trajs.data['alert'].astype(np.bool_)\n",
    "trajs.data['spi'] = trajs.data['spi'].astype(np.bool_)\n",
    "trajs.data['last_position'] = trajs.data['last_position'].astype(np.float64)\n",
    "\n",
    "trajs.data['icao24'] = trajs.data['icao24'].astype('object')\n",
    "trajs.data['callsign'] = trajs.data['callsign'].astype('object')\n",
    "trajs.data['squawk'] = trajs.data['squawk'].astype('object')"
   ]
  },
  {
   "cell_type": "markdown",
   "metadata": {},
   "source": [
    "##### Assign ID"
   ]
  },
  {
   "cell_type": "code",
   "execution_count": 12,
   "metadata": {},
   "outputs": [],
   "source": [
    "trajs = trajs.assign_id().eval()"
   ]
  },
  {
   "cell_type": "markdown",
   "metadata": {},
   "source": [
    "##### Drop duplicates"
   ]
  },
  {
   "cell_type": "code",
   "execution_count": 13,
   "metadata": {},
   "outputs": [],
   "source": [
    "trajs.data = trajs.data.drop_duplicates(\n",
    "    subset=[\"flight_id\", \"last_position\"])"
   ]
  },
  {
   "cell_type": "markdown",
   "metadata": {},
   "source": [
    "##### Creat a copy of trajs which will be used for go-around classification"
   ]
  },
  {
   "cell_type": "code",
   "execution_count": 14,
   "metadata": {},
   "outputs": [],
   "source": [
    "trajs_all = Traffic(trajs.data.copy())"
   ]
  },
  {
   "cell_type": "markdown",
   "metadata": {},
   "source": [
    "##### Remove all data above 4000ft"
   ]
  },
  {
   "cell_type": "code",
   "execution_count": 15,
   "metadata": {},
   "outputs": [],
   "source": [
    "trajs = trajs.query('geoaltitude < 4000 or onground or geoaltitude.isna()')"
   ]
  },
  {
   "cell_type": "markdown",
   "metadata": {},
   "source": [
    "##### Resample Data"
   ]
  },
  {
   "cell_type": "code",
   "execution_count": 16,
   "metadata": {},
   "outputs": [],
   "source": [
    "trajs = trajs.resample('1s').eval()"
   ]
  },
  {
   "cell_type": "markdown",
   "metadata": {},
   "source": [
    "##### Remove all flights which are not aligned with RWY14"
   ]
  },
  {
   "cell_type": "code",
   "execution_count": null,
   "metadata": {},
   "outputs": [],
   "source": [
    "def keep_aligned_on_rwy_14(flight):\n",
    "    \"\"\"Filters flights that are aligned with Runway 14.\"\"\"\n",
    "    aligned_segment = next(flight.aligned_on_ils(\"LSZH\", min_duration=\"30s\"), None)\n",
    "    if aligned_segment is not None and aligned_segment.max(\"ILS\") == \"14\":\n",
    "        return flight\n",
    "    return None\n",
    "\n",
    "# Use keep_aligned_on_rwy_14 directly within the pipe chain\n",
    "aligned_flights_lazy = trajs.iterate_lazy().pipe(keep_aligned_on_rwy_14)\n",
    "\n",
    "# Evaluate and store only flights that meet the condition\n",
    "trajs = aligned_flights_lazy.eval(max_workers=1)"
   ]
  },
  {
   "cell_type": "markdown",
   "metadata": {},
   "source": [
    "##### Filter  trajs just for points which are within one of the polygons"
   ]
  },
  {
   "cell_type": "code",
   "execution_count": 18,
   "metadata": {},
   "outputs": [],
   "source": [
    "# Function that checks if a point is within one of the polygons\n",
    "def point_in_polygons(row):\n",
    "    point = Point(row['latitude'], row['longitude'])\n",
    "    in_runway = runway_polygon.contains(point) or runway_polygon.intersects(point)\n",
    "    in_vacated = runway_vacated_polygon.contains(point) or runway_vacated_polygon.intersects(point)\n",
    "    in_end = runway_end_polygon.contains(point) or runway_end_polygon.intersects(point)\n",
    "    return in_runway or in_vacated or in_end\n",
    "\n",
    "# Filter the DataFrame using the apply method with lazy execution\n",
    "trajs.data = trajs.data.loc[trajs.data.apply(point_in_polygons, axis=1)]"
   ]
  },
  {
   "cell_type": "markdown",
   "metadata": {},
   "source": [
    "##### Function to define Callsign, Flight ID, A/C Type, ICAO 24, Speed, Geoaltitdude, Time at TH and ROT"
   ]
  },
  {
   "cell_type": "code",
   "execution_count": 19,
   "metadata": {},
   "outputs": [],
   "source": [
    "# Assuming 'table' is an existing DataFrame with the desired columns\n",
    "altitude_threshold_vacated = 1600  # Altitude limit in feet for runway_vacated_polygon\n",
    "\n",
    "# Define the processing function for each flight\n",
    "def process_flight(flight):\n",
    "    points_inside = []\n",
    "    points_indside_end = []\n",
    "    last_valid_altitude = None\n",
    "    vacated_points_count = 0\n",
    "    go_around = False\n",
    "    go_around_time = np.nan\n",
    "    not_vacated = True\n",
    "    short_rot = False\n",
    "\n",
    "    flight = flight.sort_values(by='timestamp')\n",
    "\n",
    "    # Iterate through flight data to get latitude, longitude, and altitude\n",
    "    for _, row in flight.data.iterrows():\n",
    "        lat = row['latitude']\n",
    "        lon = row['longitude']\n",
    "        alt = row['altitude']\n",
    "\n",
    "        if np.isnan(alt) and last_valid_altitude is not None:\n",
    "            alt = last_valid_altitude\n",
    "\n",
    "        point = Point(lat, lon)\n",
    "\n",
    "        if runway_polygon.contains(point) or runway_polygon.intersects(point):\n",
    "            points_inside.append(row)\n",
    "            last_valid_altitude = alt\n",
    "\n",
    "        if runway_vacated_polygon.contains(point) or runway_vacated_polygon.intersects(point) and alt <= altitude_threshold_vacated:\n",
    "            vacated_points_count += 1\n",
    "\n",
    "        if runway_end_polygon.contains(point) or runway_end_polygon.intersects(point):\n",
    "            points_indside_end.append(row)\n",
    "\n",
    "        if vacated_points_count >= 5:\n",
    "            not_vacated = False\n",
    "            reason = 'Not Vacated'\n",
    "            break\n",
    "\n",
    "    flight_data_rwy = pd.DataFrame(points_inside)\n",
    "    flight_rwy_end_data = pd.DataFrame(points_indside_end)\n",
    "    if not flight_data_rwy.empty:\n",
    "        first_timestamp = pd.to_datetime(flight_data_rwy['timestamp'].min())\n",
    "        last_timestamp = pd.to_datetime(flight_data_rwy['timestamp'].max())\n",
    "        rot = (last_timestamp - first_timestamp).total_seconds()\n",
    "\n",
    "        time_th = 150\n",
    "        time_min = 40\n",
    "\n",
    "        if rot < time_min:\n",
    "            short_rot = True\n",
    "            points_inside = []\n",
    "            points_indside_end = []\n",
    "            last_valid_altitude = None\n",
    "            for _, row in flight.data.iterrows():\n",
    "                lat = row['latitude']\n",
    "                lon = row['longitude']\n",
    "                alt = row['altitude']\n",
    "\n",
    "                if np.isnan(alt) and last_valid_altitude is not None:\n",
    "                    alt = last_valid_altitude\n",
    "\n",
    "                point = Point(lat, lon)\n",
    "\n",
    "                if runway_polygon.contains(point) or runway_polygon.intersects(point):\n",
    "                    points_inside.append(row)\n",
    "                    last_valid_altitude = alt\n",
    "\n",
    "                if runway_vacated_polygon.contains(point) or runway_vacated_polygon.intersects(point) and alt <= altitude_threshold_vacated:\n",
    "                    vacated_points_count += 1\n",
    "\n",
    "                if runway_end_polygon.contains(point) or runway_end_polygon.intersects(point):\n",
    "                    points_indside_end.append(row)\n",
    "\n",
    "            flight_data_rwy = pd.DataFrame(points_inside)\n",
    "            flight_rwy_end_data = pd.DataFrame(points_indside_end)\n",
    "\n",
    "        if not flight_data_rwy.empty:\n",
    "            first_timestamp = pd.to_datetime(flight_data_rwy['timestamp'].min())\n",
    "            last_timestamp = pd.to_datetime(flight_data_rwy['timestamp'].max())\n",
    "            rot = (last_timestamp - first_timestamp).total_seconds()\n",
    "\n",
    "        has_end_data = not flight_rwy_end_data.empty\n",
    "        points_above_1800 = (flight_rwy_end_data['geoaltitude'] > 1800).sum() if has_end_data else 0\n",
    "\n",
    "        if (\n",
    "            ((rot > time_th or has_end_data) and trajs_all[flight.flight_id].has('go_around(\"LSZH\")')) or \n",
    "            (has_end_data and points_above_1800 >= 1)\n",
    "        ):\n",
    "\n",
    "            go_around = True\n",
    "            flight_data_rwy = flight_data_rwy.sort_values(by='timestamp')\n",
    "            go_around_time = flight_data_rwy.iloc[0]['timestamp']\n",
    "            flight_data_rwy['time_diff'] = flight_data_rwy['timestamp'].diff().dt.total_seconds()\n",
    "            gap_index = flight_data_rwy[flight_data_rwy['time_diff'] > 150].index\n",
    "            flight_data_rwy = flight_data_rwy.drop(columns=['time_diff'])\n",
    "\n",
    "            if gap_index.empty:\n",
    "                return {\n",
    "                    'Flight (Callsign)': flight.callsign,\n",
    "                    'Flight ID': flight.flight_id,\n",
    "                    'Time of Go-around': go_around_time,\n",
    "                }\n",
    "\n",
    "            if not gap_index.empty:\n",
    "                # Set a maximum iteration counter to prevent infinite loops\n",
    "                max_iterations = 10\n",
    "                iteration_count = 0\n",
    "                while ((rot > time_th) and (iteration_count < max_iterations)):\n",
    "                    iteration_count += 1\n",
    "                    flight_data_rwy['time_diff'] = flight_data_rwy['timestamp'].diff().dt.total_seconds()\n",
    "                    gap_index = flight_data_rwy[flight_data_rwy['time_diff'] > 150].index\n",
    "                    if gap_index.empty:\n",
    "                        break\n",
    "                    first_gap_index = gap_index[0]\n",
    "                    flight_data_rwy = flight_data_rwy.loc[first_gap_index:]\n",
    "                    if flight_data_rwy.empty:\n",
    "                        return {\n",
    "                            'Flight (Callsign)': flight.callsign,\n",
    "                            'Flight ID': flight.flight_id,\n",
    "                            'Time of Go-around': go_around_time,\n",
    "                        }\n",
    "                    flight_data_rwy = flight_data_rwy.drop(columns=['time_diff'])\n",
    "                    first_timestamp = pd.to_datetime(flight_data_rwy['timestamp'].min())\n",
    "                    last_timestamp = pd.to_datetime(flight_data_rwy['timestamp'].max())\n",
    "                    rot = (last_timestamp - first_timestamp).total_seconds()\n",
    "\n",
    "        # Collect relevant data to return as a row\n",
    "        return {\n",
    "            'Flight (Callsign)': flight.callsign,\n",
    "            'Flight ID': flight.flight_id,\n",
    "            'A/C Type': flight.typecode,\n",
    "            'icao24': flight.icao24,\n",
    "            'Speed at TH [kt]': flight_data_rwy.iloc[0]['groundspeed'],\n",
    "            'Geoaltitude at TH [ft]': flight_data_rwy.iloc[0]['geoaltitude'],\n",
    "            'Time at TH': flight_data_rwy.iloc[0]['timestamp'],\n",
    "            'Go-around': go_around,\n",
    "            'Time of Go-around': go_around_time,\n",
    "            'Emergency': flight.emergency().has(),\n",
    "            'Not Vacated': not_vacated,\n",
    "            'Short ROT': short_rot,\n",
    "            'ROT [s]': rot\n",
    "        }\n",
    "\n",
    "    return None"
   ]
  },
  {
   "cell_type": "markdown",
   "metadata": {},
   "source": [
    "##### Evaluate Function on Trajs and add data to table"
   ]
  },
  {
   "cell_type": "code",
   "execution_count": 20,
   "metadata": {},
   "outputs": [],
   "source": [
    "# Lazy iteration over flights using iterate_lazy\n",
    "table = trajs.iterate_lazy().pipe(process_flight).eval()"
   ]
  },
  {
   "cell_type": "markdown",
   "metadata": {},
   "source": [
    "##### Sort Table in regards of Time at TH"
   ]
  },
  {
   "cell_type": "code",
   "execution_count": null,
   "metadata": {},
   "outputs": [],
   "source": [
    "# Sort values\n",
    "table = table.sort_values(by='Time at TH')\n",
    "\n",
    "# Reset index\n",
    "table.reset_index(drop=True, inplace=True)\n",
    "\n",
    "table\n"
   ]
  },
  {
   "cell_type": "markdown",
   "metadata": {},
   "source": [
    "##### Extract and remove Go-Arounds and Go-Around with RWY changes from table"
   ]
  },
  {
   "cell_type": "code",
   "execution_count": 22,
   "metadata": {},
   "outputs": [],
   "source": [
    "rwy_change = table.loc[table['ROT [s]'].isna()]\n",
    "go_around_list = table.dropna(subset=['Time of Go-around'])\n",
    "table = table.dropna(subset=['ROT [s]'])\n",
    "table.reset_index(drop=True, inplace=True)"
   ]
  },
  {
   "cell_type": "markdown",
   "metadata": {},
   "source": [
    "##### Remove Corrupt Flights"
   ]
  },
  {
   "cell_type": "code",
   "execution_count": 23,
   "metadata": {},
   "outputs": [],
   "source": [
    "delete_list = [\n",
    "    'ETD39B_31068',\n",
    "    'FJO649_27511',\n",
    "    'TAG18_27961',\n",
    "    'THY62PE_25403',\n",
    "    'SWR3BY_14205',\n",
    "    'SWR2EP_15155',\n",
    "    'GPX600_7051',\n",
    "]\n",
    "\n",
    "table = table[~table['Flight ID'].isin(delete_list)]\n",
    "\n",
    "table.reset_index(drop=True, inplace=True)"
   ]
  },
  {
   "cell_type": "markdown",
   "metadata": {},
   "source": [
    "### Meteo"
   ]
  },
  {
   "cell_type": "markdown",
   "metadata": {},
   "source": [
    "##### Define Function to find the closest METAR"
   ]
  },
  {
   "cell_type": "code",
   "execution_count": 24,
   "metadata": {},
   "outputs": [],
   "source": [
    "# Function to find the closest METAR to a timestamp of a flight in the past or at the same time\n",
    "def find_closest_past_metar(timestamp, meteo_times):\n",
    "    # Calculate time difference\n",
    "    time_diff = meteo_times - timestamp\n",
    "    # Filter out future METAR times (i.e., positive time differences)\n",
    "    past_times = time_diff[time_diff <= pd.Timedelta(0)]\n",
    "    \n",
    "    # If there are no past times available, return None or handle accordingly\n",
    "    if past_times.empty:\n",
    "        return None\n",
    "\n",
    "    # Calculate absolute differences and find the closest\n",
    "    closest_index = past_times.abs().idxmin()  # Find closest index from past times\n",
    "    return closest_index"
   ]
  },
  {
   "cell_type": "markdown",
   "metadata": {},
   "source": [
    "##### Import of all METARS within Time periode"
   ]
  },
  {
   "cell_type": "code",
   "execution_count": null,
   "metadata": {},
   "outputs": [],
   "source": [
    "meteo_data = []\n",
    "for t1, t2 in zip(timestamps[:-1], timestamps[1:]):\n",
    "        print(t1, t2)\n",
    "        tmp = metar.METAR('LSZH').get(\n",
    "             start=str(t1),\n",
    "             stop=str(t2),\n",
    "        )\n",
    "        if tmp is not None:\n",
    "            meteo_data.append(tmp)       \n",
    " \n",
    "meteo = pd.concat(meteo_data)\n",
    "\n",
    "# Sort the DataFrame by time and reset the index\n",
    "meteo = meteo.sort_values(by=\"time\").reset_index(drop=True)"
   ]
  },
  {
   "cell_type": "markdown",
   "metadata": {},
   "source": [
    "##### Add weather data for each flight to the table based on the closest METAR"
   ]
  },
  {
   "cell_type": "code",
   "execution_count": 26,
   "metadata": {},
   "outputs": [],
   "source": [
    "# Loop through each row in the DataFrame\n",
    "for flight in range(len(table)):\n",
    "    # Convert the time column to datetime objects\n",
    "    time = pd.to_datetime(table['Time at TH'][flight])\n",
    "    \n",
    "    # Find the index of the closest METAR report\n",
    "    idx = find_closest_past_metar(time, meteo['time'])\n",
    "    \n",
    "    # Get the corresponding values from the METAR DataFrame\n",
    "    wind_spd = meteo.wind_speed[idx]\n",
    "    wind_dir = meteo.wind_dir[idx]\n",
    "    visibility = meteo.vis[idx]\n",
    "    temperature = meteo.temp[idx]\n",
    "    \n",
    "    # Insert the values into the corresponding columns in 'table'\n",
    "    table.at[flight, 'Wind speed [kt]'] = wind_spd\n",
    "    table.at[flight, 'Wind direction [°]'] = wind_dir\n",
    "    table.at[flight, 'Visibility Category'] = visibility\n",
    "    table.at[flight, 'Temperature [°C]'] = temperature\n",
    "    table.at[flight, 'Meteo idx'] = idx\n"
   ]
  },
  {
   "cell_type": "markdown",
   "metadata": {},
   "source": [
    "##### Convert Temperature, Wind speed and Wind direction Data in table to numerical values"
   ]
  },
  {
   "cell_type": "code",
   "execution_count": 27,
   "metadata": {},
   "outputs": [],
   "source": [
    "# Convert all values in the relevant columns to strings\n",
    "table['Temperature [°C]'] = table['Temperature [°C]'].astype(str)\n",
    "table['Wind speed [kt]'] = table['Wind speed [kt]'].astype(str)\n",
    "table['Wind direction [°]'] = table['Wind direction [°]'].astype(str)\n",
    "\n",
    "# Clean the columns (e.g., remove leading/trailing spaces)\n",
    "table['Temperature [°C]'] = table['Temperature [°C]'].str.strip()\n",
    "table['Wind speed [kt]'] = table['Wind speed [kt]'].str.strip()\n",
    "table['Wind direction [°]'] = table['Wind direction [°]'].str.strip()\n",
    "\n",
    "# Replace empty strings or 'None' with NaN in the 'Wind direction [°]' column\n",
    "table['Wind direction [°]'] = table['Wind direction [°]'].replace(['None', ''], pd.NA)\n",
    "\n",
    "# Extract the numeric values\n",
    "table['Temperature [°C]'] = table['Temperature [°C]'].str.extract(r'(\\d+)')\n",
    "table['Wind speed [kt]'] = table['Wind speed [kt]'].str.extract(r'(\\d+)')\n",
    "table['Wind direction [°]'] = table['Wind direction [°]'].str.extract(r'(\\d+)')\n",
    "\n",
    "# Convert the extracted values to floats to display NaN for missing values\n",
    "table['Temperature [°C]'] = pd.to_numeric(table['Temperature [°C]'], errors='coerce').astype(float)\n",
    "table['Wind speed [kt]'] = pd.to_numeric(table['Wind speed [kt]'], errors='coerce').astype(float)\n",
    "table['Wind direction [°]'] = pd.to_numeric(table['Wind direction [°]'], errors='coerce').astype(float)\n"
   ]
  },
  {
   "cell_type": "markdown",
   "metadata": {},
   "source": [
    "##### Define Visibility categories"
   ]
  },
  {
   "cell_type": "code",
   "execution_count": 28,
   "metadata": {},
   "outputs": [],
   "source": [
    "# Function to categorize visibility into categories\n",
    "def categorize_visibility(visibility):\n",
    "    if visibility <= 1000:\n",
    "        return 0  # Very poor\n",
    "    elif visibility <= 2000:\n",
    "        return 1  # Poor\n",
    "    elif visibility <= 3000:\n",
    "        return 2\n",
    "    elif visibility <= 4000:\n",
    "        return 3\n",
    "    elif visibility <= 5000:\n",
    "        return 4\n",
    "    elif visibility <= 6000:\n",
    "        return 5\n",
    "    elif visibility <= 7000:\n",
    "        return 6\n",
    "    elif visibility <= 8000:\n",
    "        return 7\n",
    "    elif visibility <= 9000:\n",
    "        return 8\n",
    "    elif visibility <= 10000:\n",
    "        return 9  # Good\n",
    "    else:\n",
    "        return 10  # Very good"
   ]
  },
  {
   "cell_type": "markdown",
   "metadata": {},
   "source": [
    "##### Transfer Visibility Data in table to visibility category"
   ]
  },
  {
   "cell_type": "code",
   "execution_count": 29,
   "metadata": {},
   "outputs": [],
   "source": [
    "# Convert all values in the 'Visibility Category' column to strings\n",
    "table['Visibility Category'] = table['Visibility Category'].astype(str)\n",
    "\n",
    "# Clean the 'Visibility Category' column (e.g., remove leading/trailing spaces)\n",
    "table['Visibility Category'] = table['Visibility Category'].str.strip()\n",
    "\n",
    "# Replace empty strings or 'None' with NaN for better compatibility with ML\n",
    "table['Visibility Category'] = table['Visibility Category'].replace(['None', ''], pd.NA)\n",
    "\n",
    "# Conditional processing: If 'greater than' is present, set the value to '12000',\n",
    "# otherwise extract the number as an integer or float\n",
    "table['Visibility Category'] = table['Visibility Category'].apply(\n",
    "    lambda x: 12000 if isinstance(x, str) and 'greater than' in x.lower() else x\n",
    ")\n",
    "\n",
    "# For all non-'greater than' values, extract the number and keep it as a float (NaN for missing)\n",
    "table['Visibility Category'] = table['Visibility Category'].apply(\n",
    "    lambda x: pd.to_numeric(x.split()[0], errors='coerce') if isinstance(x, str) else x\n",
    ")\n",
    "\n",
    "# Ensure the final column is numeric with NaN for missing values\n",
    "table['Visibility Category'] = pd.to_numeric(table['Visibility Category'], errors='coerce')\n",
    "\n",
    "\n",
    "# Apply the visibility categorization directly to the 'Visibility Category' column\n",
    "table['Visibility Category'] = table['Visibility Category'].apply(categorize_visibility)\n"
   ]
  },
  {
   "cell_type": "markdown",
   "metadata": {},
   "source": [
    "##### Import Precipitation"
   ]
  },
  {
   "cell_type": "code",
   "execution_count": 30,
   "metadata": {},
   "outputs": [],
   "source": [
    "# Coordinates for Zurich Airport RWY 14\n",
    "latitude = 47.473626\n",
    "longitude = 8.547640\n",
    "\n",
    "# Convert start and stop times to datetime format\n",
    "start_datetime = pd.to_datetime(start)\n",
    "stop_datetime = pd.to_datetime(stop)\n",
    "\n",
    "# Extract the date in \"YYYY-MM-DD\" format\n",
    "start_date = start_datetime.strftime(\"%Y-%m-%d\")\n",
    "end_date = stop_datetime.strftime(\"%Y-%m-%d\")\n",
    "hourly = \"precipitation\"\n",
    "\n",
    "# Fetch weather data from Open-Meteo\n",
    "url = f\"https://archive-api.open-meteo.com/v1/era5?latitude={latitude}&longitude={longitude}&start_date={start_date}&end_date={end_date}&hourly={hourly}\"\n",
    "response = requests.get(url)\n",
    "data = response.json()\n",
    "\n",
    "# Create a Pandas DataFrame with timestamps and precipitation data\n",
    "meteo_df = pd.DataFrame({\n",
    "    'Timestamp': pd.to_datetime(data['hourly']['time']),\n",
    "    'Precipitation [mm]': data['hourly']['precipitation']\n",
    "})\n",
    "\n",
    "# Optional: Ensure the timestamps are localized to UTC if needed\n",
    "meteo_df['Timestamp'] = meteo_df['Timestamp'].dt.tz_localize('UTC')\n"
   ]
  },
  {
   "cell_type": "markdown",
   "metadata": {},
   "source": [
    "##### Define function to find clostes Precipitation Data"
   ]
  },
  {
   "cell_type": "code",
   "execution_count": 31,
   "metadata": {},
   "outputs": [],
   "source": [
    "# Function to determine the nearest precipitation value to the flight timestamp in the past or at the same time\n",
    "def find_closest_past_precipitation(flight_time, meteo_df):\n",
    "    # Filter out future precipitation times (i.e., only keep timestamps in the past or at the same time)\n",
    "    past_times_df = meteo_df[meteo_df['Timestamp'] <= flight_time]\n",
    "\n",
    "    # If there are no past times available, return None\n",
    "    if past_times_df.empty:\n",
    "        return None\n",
    "\n",
    "    # Calculate the time differences\n",
    "    time_diff = (past_times_df['Timestamp'] - flight_time).abs()\n",
    "\n",
    "    # Find the index of the minimum time difference (i.e., closest past time)\n",
    "    closest_index = time_diff.idxmin()\n",
    "    \n",
    "    return closest_index"
   ]
  },
  {
   "cell_type": "markdown",
   "metadata": {},
   "source": [
    "##### Add closest Precipitation Data to table"
   ]
  },
  {
   "cell_type": "code",
   "execution_count": null,
   "metadata": {},
   "outputs": [],
   "source": [
    "# Loop through each flight time in 'table' to find the closest precipitation value\n",
    "for flight in range(len(table)):\n",
    "    # Temporary conversion of 'Time at TH' to datetime without changing the original table format\n",
    "    flight_time = pd.to_datetime(table['Time at TH'].iloc[flight], errors='coerce')\n",
    "    \n",
    "    # Check if the conversion was successful\n",
    "    if pd.notna(flight_time):  # Valid datetime object\n",
    "        # Find the index of the closest precipitation data in the past or at the same time\n",
    "        idx = find_closest_past_precipitation(flight_time, meteo_df)\n",
    "\n",
    "        if idx is not None:\n",
    "            # Get the corresponding precipitation value and timestamp\n",
    "            precipitation_value = meteo_df.loc[idx, 'Precipitation [mm]']\n",
    "            corresponding_timestamp = meteo_df.loc[idx, 'Timestamp']\n",
    "\n",
    "            # Insert the precipitation value and timestamp into the corresponding columns in 'table'\n",
    "            table.at[flight, 'Precipitation [mm]'] = precipitation_value\n",
    "            table.at[flight, 'Precipitation idx'] = idx\n",
    "            table.at[flight, 'Precipitation Timestamp'] = corresponding_timestamp\n",
    "        else:\n",
    "            # No valid past time found, set value to None\n",
    "            table.at[flight, 'Precipitation [mm]'] = None\n",
    "            table.at[flight, 'Precipitation idx'] = None\n",
    "            table.at[flight, 'Precipitation Timestamp'] = None\n",
    "\n",
    "    else:\n",
    "        # Handle cases where datetime conversion fails\n",
    "        table.at[flight, 'Precipitation [mm]'] = None\n",
    "        table.at[flight, 'Precipitation idx'] = None\n",
    "        table.at[flight, 'Precipitation Timestamp'] = None\n",
    "\n",
    "# Display the updated table\n",
    "table\n"
   ]
  },
  {
   "cell_type": "markdown",
   "metadata": {},
   "source": [
    "### Import and Add Data from FAA Aircraft Characteristics Database"
   ]
  },
  {
   "cell_type": "markdown",
   "metadata": {},
   "source": [
    "##### In case of missing data in opensky, an manually built database is used to add ICAO Aircraft Type"
   ]
  },
  {
   "cell_type": "code",
   "execution_count": 33,
   "metadata": {},
   "outputs": [],
   "source": [
    "# Load the list from the CSV file into a DataFrame\n",
    "DF_MISSING_ICAO24 = pd.read_csv('missing_icao24_data.csv')"
   ]
  },
  {
   "cell_type": "markdown",
   "metadata": {},
   "source": [
    "##### Add and check A/C Type for missing  or outdated entries by using a manual database"
   ]
  },
  {
   "cell_type": "code",
   "execution_count": null,
   "metadata": {},
   "outputs": [],
   "source": [
    "# Create a dictionary from the second table (DF_MISSING_ICAO24) for quick access\n",
    "icao24_dict = DF_MISSING_ICAO24.set_index('icao24').to_dict(orient='index')\n",
    "\n",
    "# Update 'A/C Type' for missing or outdated values\n",
    "for icao24, info in icao24_dict.items():\n",
    "    # Mask for rows with matching icao24 and either missing or outdated 'A/C Type'\n",
    "    mask_ac_type = (table['icao24'] == icao24) & ((table['A/C Type'].isna()) | (table['A/C Type'] == '') | (table['A/C Type'] != info['typecode']))\n",
    "    table.loc[mask_ac_type, 'A/C Type'] = info['typecode']\n",
    "\n",
    "# Display the result for 'A/C Type' updates\n",
    "table"
   ]
  },
  {
   "cell_type": "markdown",
   "metadata": {},
   "source": [
    "##### Load the FAA Characterisitcs Database Excel file into a DataFrame"
   ]
  },
  {
   "cell_type": "code",
   "execution_count": 35,
   "metadata": {},
   "outputs": [],
   "source": [
    "aircraft_characteristics = pd.read_excel('FAA-Aircraft-Char-DB-AC-150-5300-13B-App-2023-09-07.xlsx')"
   ]
  },
  {
   "cell_type": "markdown",
   "metadata": {},
   "source": [
    "##### Add Maximum Allowable Landing Weight (MALW) anc ICAO Weight Turbulence Category (WTC) to table"
   ]
  },
  {
   "cell_type": "code",
   "execution_count": 36,
   "metadata": {},
   "outputs": [],
   "source": [
    "table = table.merge(aircraft_characteristics[['ICAO_Code', 'MALW_lb', 'ICAO_WTC']],\n",
    "                                  left_on='A/C Type',    # Column in table\n",
    "                                  right_on='ICAO_Code',  # Column in aircraft_characteristics\n",
    "                                  how='left').drop(columns='ICAO_Code')  # Optionally drop 'ICAO_Code' after merge\n"
   ]
  },
  {
   "cell_type": "markdown",
   "metadata": {},
   "source": [
    "##### Convert to metric units"
   ]
  },
  {
   "cell_type": "code",
   "execution_count": 37,
   "metadata": {},
   "outputs": [],
   "source": [
    "# Convert non-NaN values from pounds to kilograms and round, keeping NaNs as they are\n",
    "table['MALW [kg]'] = table['MALW_lb'].apply(lambda x: round(x * 0.453592) if pd.notna(x) else x)"
   ]
  },
  {
   "cell_type": "markdown",
   "metadata": {},
   "source": [
    "### Engineer further Data from table"
   ]
  },
  {
   "cell_type": "markdown",
   "metadata": {},
   "source": [
    "##### Add ICAO Aircraft Type table"
   ]
  },
  {
   "cell_type": "code",
   "execution_count": 38,
   "metadata": {},
   "outputs": [],
   "source": [
    "# Perform the merge\n",
    "table = table.merge(aircraft.data[['icao24', 'icaoaircrafttype']],\n",
    "                                  on='icao24',\n",
    "                                  how='left')"
   ]
  },
  {
   "cell_type": "markdown",
   "metadata": {},
   "source": [
    "##### In case of missing data in opensky, an manually built database is used to add ICAO Aircraft Type"
   ]
  },
  {
   "cell_type": "code",
   "execution_count": null,
   "metadata": {},
   "outputs": [],
   "source": [
    "# Update 'icaoaircrafttype' for missing or outdated values\n",
    "for icao24, info in icao24_dict.items():\n",
    "    # Mask for rows with matching icao24 and either missing or outdated 'icaoaircrafttype'\n",
    "    mask_icaoaircrafttype = (table['icao24'] == icao24) & ((table['icaoaircrafttype'].isna()) | (table['icaoaircrafttype'] == '') | (table['icaoaircrafttype'] != info['icaoaircrafttype']))\n",
    "    table.loc[mask_icaoaircrafttype, 'icaoaircrafttype'] = info['icaoaircrafttype']\n",
    "\n",
    "# Display the result for 'icaoaircrafttype' updates\n",
    "table"
   ]
  },
  {
   "cell_type": "markdown",
   "metadata": {},
   "source": [
    "##### Extract Number of Engines and Propulsion Type from ICAO Aircraft Code"
   ]
  },
  {
   "cell_type": "code",
   "execution_count": null,
   "metadata": {},
   "outputs": [],
   "source": [
    "# Function to extract number of engines and propulsion type dynamically based on length\n",
    "def get_engine_info(icao_type):\n",
    "    if isinstance(icao_type, str) and len(icao_type) == 3:  # Check if the length is exactly 3\n",
    "        num_engines = int(icao_type[1])  # Extract number of engines (2nd character) and convert to integer\n",
    "        propulsion_code = icao_type[2]   # Extract propulsion type (3rd character)\n",
    "\n",
    "        # Check for propulsion type based on the 3rd character\n",
    "        if propulsion_code == 'J':\n",
    "            propulsion_type = 'Jet'\n",
    "        elif propulsion_code == 'T':\n",
    "            propulsion_type = 'Turboprop'\n",
    "        elif propulsion_code == 'P':\n",
    "            propulsion_type = 'Piston'\n",
    "        else:\n",
    "            propulsion_type = np.nan  # Handle unknown propulsion types\n",
    "\n",
    "        return propulsion_type, num_engines\n",
    "    else:\n",
    "        return np.nan, np.nan  # Handle cases where length is not exactly 3\n",
    "\n",
    "# Apply the function to the 'icaoaircrafttype' column\n",
    "table['Propulsion Type'], table['Number of Engines'] = zip(\n",
    "    *table['icaoaircrafttype'].apply(get_engine_info)\n",
    ")\n",
    "\n",
    "# Ensure NaN instead of <NA> in the 'Number of Engines' column\n",
    "table['Number of Engines'] = table['Number of Engines'].replace({pd.NA: np.nan})\n",
    "\n",
    "# Convert \"Number of Engines\" to integer type\n",
    "table['Number of Engines'] = table['Number of Engines'].astype('float64')  # Use float to handle NaN\n",
    "\n",
    "# Display the result\n",
    "table\n"
   ]
  },
  {
   "cell_type": "markdown",
   "metadata": {},
   "source": [
    "##### Derive ICAO Code from callsign (Airline)"
   ]
  },
  {
   "cell_type": "code",
   "execution_count": 41,
   "metadata": {},
   "outputs": [],
   "source": [
    "# Step 1: Extract the first three characters of the 'Flight (Callsign)' column to get the ICAO Code\n",
    "table['ICAO Code'] = table['Flight (Callsign)'].str[:3]\n",
    "\n",
    "# Step 2: Define a threshold for the minimum number of occurrences required for an ICAO Code to be considered valid\n",
    "threshold = 15  # Set your desired threshold value here\n",
    "\n",
    "# Step 3: Count occurrences of each ICAO Code in the table\n",
    "icao_counts = table['ICAO Code'].value_counts()\n",
    "\n",
    "# Step 4: Assign \"Unknown\" to ICAO Codes that do not meet the threshold\n",
    "table['ICAO Code'] = table['ICAO Code'].apply(lambda x: x if icao_counts.get(x, 0) >= threshold else 'Unknown')\n"
   ]
  },
  {
   "cell_type": "markdown",
   "metadata": {},
   "source": [
    "##### Cyclic encoding of Time at TH"
   ]
  },
  {
   "cell_type": "code",
   "execution_count": 42,
   "metadata": {},
   "outputs": [],
   "source": [
    "# Sample structure based on your 'Time at TH' column\n",
    "table['Hour'] = table['Time at TH'].dt.hour\n",
    "table['Minute'] = table['Time at TH'].dt.minute\n",
    "table['Day of week'] = table['Time at TH'].dt.weekday\n",
    "table['Month'] = table['Time at TH'].dt.month\n",
    "table['Year'] = table['Time at TH'].dt.year % 100  # Using modulo 100 for 'year' cyclic encoding\n",
    "\n",
    "# Function to apply encoding to one column\n",
    "def cyclic_enc(df, feature, max_val):\n",
    "    df[feature + \" sin\"] = (\n",
    "        0.5 * np.sin(2 * np.pi * df[feature] / max_val) + 0.5\n",
    "    )\n",
    "    df[feature + \" cos\"] = (\n",
    "        0.5 * np.cos(2 * np.pi * df[feature] / max_val) + 0.5\n",
    "    )\n",
    "    return df\n",
    "\n",
    "def encode_df(df):\n",
    "    # Cyclic encoding of hour, minute, weekday, month, and year\n",
    "    df = cyclic_enc(df, 'Hour', 24)\n",
    "    df = cyclic_enc(df, 'Minute', 60)\n",
    "    df = cyclic_enc(df, 'Day of week', 7)\n",
    "    df = cyclic_enc(df, 'Month', 12)\n",
    "    df = cyclic_enc(df, 'Year', 100)\n",
    "    \n",
    "    # Drop original columns after encoding\n",
    "    df = df.drop(columns=['Hour', 'Minute', 'Day of week', 'Month', 'Year'])\n",
    "    return df\n",
    "\n",
    "# Apply encoding to the dataset\n",
    "table = encode_df(table)\n"
   ]
  },
  {
   "cell_type": "markdown",
   "metadata": {},
   "source": [
    "##### Determine Day or Night Status Based on Sun's Position at 'Time at TH'"
   ]
  },
  {
   "cell_type": "code",
   "execution_count": 43,
   "metadata": {},
   "outputs": [],
   "source": [
    "# Define location information (Zurich Airport)\n",
    "location = LocationInfo(\"Zurich Airport\", \"Switzerland\", \"Europe/Zurich\", latitude, longitude)\n",
    "\n",
    "# Function to determine if it is day or night based on the timestamp\n",
    "def is_daytime(timestamp):\n",
    "    # Calculate sunrise and sunset times for the date of the timestamp\n",
    "    s = sun(location.observer, date=timestamp.date())\n",
    "    sunrise = s['sunrise']\n",
    "    sunset = s['sunset']\n",
    "    \n",
    "    # Check if the timestamp is between sunrise and sunset\n",
    "    return sunrise <= timestamp <= sunset\n",
    "\n",
    "# Apply the function to the 'Time at TH' column and create a new 'Day/Night' column\n",
    "table['Day/Night'] = table['Time at TH'].apply(lambda x: 'Day' if is_daytime(x) else 'Night')\n"
   ]
  },
  {
   "cell_type": "markdown",
   "metadata": {},
   "source": [
    "##### Calculate Specific Energy basen on Altitude and Speed at TH"
   ]
  },
  {
   "cell_type": "code",
   "execution_count": 44,
   "metadata": {},
   "outputs": [],
   "source": [
    "# Airport elevation in feet\n",
    "airport_elevation_ft = 1417\n",
    "\n",
    "# Constants\n",
    "g = 9.81  # Acceleration due to gravity in m/s²\n",
    "\n",
    "# Calculate relative altitude in meters without storing intermediate results in the table\n",
    "relative_altitude_m = (table['Geoaltitude at TH [ft]'] - airport_elevation_ft) * 0.3048  # Convert ft to m\n",
    "speed_m_s = table['Speed at TH [kt]'] * 0.514444  # Convert knots to m/s\n",
    "\n",
    "# Calculate specific energy (energy per unit mass) and preserve NaN values\n",
    "table['Specific Energy [J/kg]'] = (\n",
    "    g * relative_altitude_m + 0.5 * speed_m_s ** 2\n",
    ").round(0).astype('Int64')\n"
   ]
  },
  {
   "cell_type": "markdown",
   "metadata": {},
   "source": [
    "##### Calculate Energy at MALW basen on Specific Energy at TH"
   ]
  },
  {
   "cell_type": "code",
   "execution_count": 45,
   "metadata": {},
   "outputs": [],
   "source": [
    "table['Energy at MALW [MJ]'] = table['MALW [kg]']*table['Specific Energy [J/kg]']/1e6"
   ]
  },
  {
   "cell_type": "markdown",
   "metadata": {},
   "source": [
    "##### Determine Time at TH Difference between succesive landings"
   ]
  },
  {
   "cell_type": "code",
   "execution_count": 46,
   "metadata": {},
   "outputs": [],
   "source": [
    "# Convert 'Time at TH' to datetime format and force conversion with 'coerce' to mark non-date values as NaT\n",
    "table['Time at TH'] = pd.to_datetime(table['Time at TH'], errors='coerce')\n",
    "\n",
    "# Check if all values were correctly converted\n",
    "if table['Time at TH'].isnull().any():\n",
    "    print(\"Warning: Some values in 'Time at TH' could not be converted and were marked as NaT.\")\n",
    "\n",
    "# Calculate the time difference to the previous landing in seconds and assign it to a new column\n",
    "table['Time from Previous Landing [s]'] = (\n",
    "    table['Time at TH'] - table['Time at TH'].shift(1)\n",
    ").dt.total_seconds()\n",
    "\n",
    "# Fill NaN values in the 'Time from Previous Landing [s]' column (e.g., for the first row) with 0 or a placeholder\n",
    "table['Time from Previous Landing [s]'] = table['Time from Previous Landing [s]'].fillna(0)\n"
   ]
  },
  {
   "cell_type": "markdown",
   "metadata": {},
   "source": [
    "##### Correct Time at TH Difference between succesive landings for go arounds"
   ]
  },
  {
   "cell_type": "code",
   "execution_count": 47,
   "metadata": {},
   "outputs": [],
   "source": [
    "# Loop through each go-around time to find the next closest landing entry in 'table'\n",
    "for go_around_time in go_around_list['Time of Go-around']:\n",
    "    # Find the entry in 'table' that has the closest time greater than the go-around time\n",
    "    subsequent_entries = table[table['Time at TH'] > go_around_time]\n",
    "    \n",
    "    # If there are no subsequent entries, skip this go-around time\n",
    "    if subsequent_entries.empty:\n",
    "        continue\n",
    "\n",
    "    # Find the next landing time after the go-around\n",
    "    closest_index = subsequent_entries['Time at TH'].idxmin()\n",
    "\n",
    "    # Calculate the time difference in seconds from the go-around time to the next 'Time at TH'\n",
    "    time_diff = (table.loc[closest_index, 'Time at TH'] - go_around_time).total_seconds()\n",
    "\n",
    "    # Update the 'Time from Previous Landing [s]' for the next landing\n",
    "    table.loc[closest_index, 'Time from Previous Landing [s]'] = time_diff\n"
   ]
  },
  {
   "cell_type": "markdown",
   "metadata": {},
   "source": [
    "##### Add additional Wind data and cyclic encode wind data"
   ]
  },
  {
   "cell_type": "code",
   "execution_count": null,
   "metadata": {},
   "outputs": [],
   "source": [
    "# 1. `No Wind`: Wind speed is 0\n",
    "table['No Wind'] = table['Wind speed [kt]'] == 0\n",
    "\n",
    "# 2. `Wind Variable`: Wind direction is NaN, but wind speed > 0\n",
    "table['Wind Variable'] = table.apply(\n",
    "    lambda row: pd.isna(row['Wind direction [°]']) and row['Wind speed [kt]'] > 0,\n",
    "    axis=1\n",
    ")\n",
    "\n",
    "# 3. Transform wind direction into sine/cosine\n",
    "# Process only valid wind directions\n",
    "table['Wind direction sin_raw'] = np.sin(np.deg2rad(table['Wind direction [°]']))\n",
    "table['Wind direction cos_raw'] = np.cos(np.deg2rad(table['Wind direction [°]']))\n",
    "\n",
    "# 4. Scale sine/cosine values to the range [0, 1]\n",
    "table['Wind direction sin'] = (table['Wind direction sin_raw'] + 1) / 2\n",
    "table['Wind direction cos'] = (table['Wind direction cos_raw'] + 1) / 2\n",
    "\n",
    "# Set sine/cosine values to 0 for \"No Wind\" and \"Wind Variable\"\n",
    "table.loc[table['No Wind'] | table['Wind Variable'], ['Wind direction sin', 'Wind direction cos']] = 0\n",
    "\n",
    "# Remove unnecessary intermediate columns\n",
    "table.drop(columns=['Wind direction sin_raw', 'Wind direction cos_raw'], inplace=True)\n",
    "\n",
    "table\n"
   ]
  },
  {
   "cell_type": "markdown",
   "metadata": {},
   "source": [
    "##### Determine Head- and Crosswind Components based on Wind Data"
   ]
  },
  {
   "cell_type": "code",
   "execution_count": null,
   "metadata": {},
   "outputs": [],
   "source": [
    "runway_direction = airports['LSZH'].runways.data.bearing.loc[2]\n",
    "\n",
    "# Convert runway direction to radians\n",
    "runway_rad = np.radians(runway_direction)\n",
    "\n",
    "# Calculate and round Headwind and Crosswind to two decimal places\n",
    "table['Headwind [kt]'] = table.apply(\n",
    "    lambda row: round(row['Wind speed [kt]'] * np.cos(np.radians(row['Wind direction [°]']) - runway_rad), 2) \n",
    "    if pd.notna(row['Wind speed [kt]']) and pd.notna(row['Wind direction [°]']) else np.nan, axis=1\n",
    ")\n",
    "\n",
    "table['Crosswind [kt]'] = table.apply(\n",
    "    lambda row: round(row['Wind speed [kt]'] * np.sin(np.radians(row['Wind direction [°]']) - runway_rad), 2) \n",
    "    if pd.notna(row['Wind speed [kt]']) and pd.notna(row['Wind direction [°]']) else np.nan, axis=1\n",
    ")\n",
    "# Display the updated DataFrame to confirm the new columns\n",
    "table\n"
   ]
  },
  {
   "cell_type": "markdown",
   "metadata": {},
   "source": [
    "##### Determine Arrival Traffic Intensity (Old Version)"
   ]
  },
  {
   "cell_type": "code",
   "execution_count": 50,
   "metadata": {},
   "outputs": [],
   "source": [
    "# Define the time interval\n",
    "time_interval = 15\n",
    "time_interval = pd.Timedelta(minutes=15)\n",
    "\n",
    "# Add a new column to store the count of landings within the defined interval\n",
    "table['Arrival Traffic Intensity'] = 0\n",
    "\n",
    "# Loop through each row to count previous landings within the time interval\n",
    "for i in range(len(table)):\n",
    "    # Calculate the start of the time window based on the current 'Time at TH' and the defined interval\n",
    "    window_start = table['Time at TH'].iloc[i] - time_interval\n",
    "    \n",
    "    # Count all landings that occurred within the time window before the current 'Time at TH'\n",
    "    count = table[(table['Time at TH'] >= window_start) & (table['Time at TH'] < table['Time at TH'].iloc[i])].shape[0]\n",
    "    \n",
    "    # Store the count in the new column 'Landings_in_Interval'\n",
    "    table.at[i, 'Arrival Traffic Intensity'] = count\n"
   ]
  },
  {
   "cell_type": "markdown",
   "metadata": {},
   "source": [
    "##### Determine Arrival Traffic Intensity with Go Arounds (Arrival Traffic Intensity)"
   ]
  },
  {
   "cell_type": "code",
   "execution_count": 51,
   "metadata": {},
   "outputs": [],
   "source": [
    "# Define the time interval\n",
    "time_interval = pd.Timedelta(minutes=15)\n",
    "\n",
    "# Add a new column to store the count of landings within the defined interval\n",
    "table['Arrival Traffic Intensity with go-arounds'] = 0\n",
    "\n",
    "# Concatenate table and go_around_list to have all relevant times (regular landings and go-arounds)\n",
    "combined_times = pd.concat([\n",
    "    table[['Time at TH']].rename(columns={'Time at TH': 'Time'}),\n",
    "    go_around_list[['Time of Go-around']].rename(columns={'Time of Go-around': 'Time'})\n",
    "], axis=0).sort_values(by='Time').reset_index(drop=True)\n",
    "\n",
    "# Loop through each row in table to count previous landings and go-arounds within the time interval\n",
    "for i in range(len(table)):\n",
    "    # Get the current 'Time at TH'\n",
    "    current_time = table['Time at TH'].iloc[i]\n",
    "    \n",
    "    # Calculate the start of the time window based on the current 'Time at TH' and the defined interval\n",
    "    window_start = current_time - time_interval\n",
    "    \n",
    "    # Count all landings and go-arounds that occurred within the time window before the current 'Time at TH'\n",
    "    count = combined_times[(combined_times['Time'] >= window_start) & (combined_times['Time'] < current_time)].shape[0]\n",
    "    \n",
    "    # Store the count in the new column 'Arrival Traffic Intensity with go-arounds'\n",
    "    table.at[i, 'Arrival Traffic Intensity with go-arounds'] = count"
   ]
  },
  {
   "cell_type": "markdown",
   "metadata": {},
   "source": [
    "##### Add Flight ID of previous flight to table"
   ]
  },
  {
   "cell_type": "code",
   "execution_count": 52,
   "metadata": {},
   "outputs": [],
   "source": [
    "for idx in range(1, len(table)):\n",
    "    table.loc[idx, 'Previous Flight'] = table.loc[idx-1, 'Flight ID']\n"
   ]
  },
  {
   "cell_type": "markdown",
   "metadata": {},
   "source": [
    "### Determine ROT trends of previous flights"
   ]
  },
  {
   "cell_type": "code",
   "execution_count": 53,
   "metadata": {},
   "outputs": [],
   "source": [
    "# Example buffer time in seconds\n",
    "time_buffer = 0\n",
    "\n",
    "# Initialize new columns for the calculated metrics\n",
    "table['ROT Previous Flight [s]'] = None\n",
    "table['Average ROT Previous 5 Flight [s]'] = None\n",
    "table['Average ROT Previous Flight (Intensity) [s]'] = None\n",
    "table['ROT Previous Flight same A/C Type [s]'] = None\n",
    "table['Average ROT Previous 5 Flights same A/C Type [s]'] = None\n",
    "table['Average ROT Previous Flight same A/C Type Total [s]'] = None\n",
    "\n",
    "# Perform calculations based on clarified column definitions\n",
    "for i in range(len(table)):\n",
    "    # Get the ROT for the previous flight, ensuring sufficient time gap\n",
    "    for j in range(i - 1, -1, -1):\n",
    "        if table.loc[i, 'Time from Previous Landing [s]'] > table.loc[j, 'ROT [s]'] + time_buffer:\n",
    "            table.loc[i, 'ROT Previous Flight [s]'] = table.loc[j, 'ROT [s]']\n",
    "            break\n",
    "\n",
    "    # Calculate the average ROT for the previous 5 flights, ensuring sufficient time gap\n",
    "    valid_rot_values = []\n",
    "    for j in range(i - 1, -1, -1):\n",
    "        if table.loc[i, 'Time from Previous Landing [s]'] > table.loc[j, 'ROT [s]'] + time_buffer:\n",
    "            valid_rot_values.append(table.loc[j, 'ROT [s]'])\n",
    "        if len(valid_rot_values) == 5:\n",
    "            break\n",
    "    if len(valid_rot_values) > 0:\n",
    "        table.loc[i, 'Average ROT Previous 5 Flight [s]'] = sum(valid_rot_values) / len(valid_rot_values)\n",
    "\n",
    "    # Calculate the average ROT based on arrival traffic intensity, ensuring sufficient time gap\n",
    "    intensity = table.loc[i, 'Arrival Traffic Intensity']\n",
    "    valid_rot_values_intensity = []\n",
    "    for j in range(i - 1, -1, -1):\n",
    "        if table.loc[i, 'Time from Previous Landing [s]'] > table.loc[j, 'ROT [s]'] + time_buffer:\n",
    "            valid_rot_values_intensity.append(table.loc[j, 'ROT [s]'])\n",
    "        if len(valid_rot_values_intensity) == intensity:\n",
    "            break\n",
    "    if len(valid_rot_values_intensity) > 0:\n",
    "        table.loc[i, 'Average ROT Previous Flight (Intensity) [s]'] = sum(valid_rot_values_intensity) / len(valid_rot_values_intensity)\n",
    "\n",
    "    # Get the ROT for the previous flight with the same A/C type, ensuring sufficient time gap\n",
    "    previous_same_ac_type = table[(table.index < i) & (table['A/C Type'] == table.loc[i, 'A/C Type'])]\n",
    "    for idx in reversed(previous_same_ac_type.index):\n",
    "        if table.loc[i, 'Time from Previous Landing [s]'] > table.loc[idx, 'ROT [s]'] + time_buffer:\n",
    "            table.loc[i, 'ROT Previous Flight same A/C Type [s]'] = table.loc[idx, 'ROT [s]']\n",
    "            break\n",
    "\n",
    "    # Calculate the average ROT for the previous 5 flights with the same A/C type, ensuring sufficient time gap\n",
    "    valid_rot_values_same_ac_type = []\n",
    "    for idx in reversed(previous_same_ac_type.index):\n",
    "        if table.loc[i, 'Time from Previous Landing [s]'] > table.loc[idx, 'ROT [s]'] + time_buffer:\n",
    "            valid_rot_values_same_ac_type.append(table.loc[idx, 'ROT [s]'])\n",
    "        if len(valid_rot_values_same_ac_type) == 5:\n",
    "            break\n",
    "    if len(valid_rot_values_same_ac_type) > 0:\n",
    "        table.loc[i, 'Average ROT Previous 5 Flights same A/C Type [s]'] = sum(valid_rot_values_same_ac_type) / len(valid_rot_values_same_ac_type)\n",
    "\n",
    "    # Calculate the total average ROT of all previous flights with the same A/C type, ensuring sufficient time gap\n",
    "    valid_rot_values_total_same_ac_type = []\n",
    "    for idx in previous_same_ac_type.index:\n",
    "        if table.loc[i, 'Time from Previous Landing [s]'] > table.loc[idx, 'ROT [s]'] + time_buffer:\n",
    "            valid_rot_values_total_same_ac_type.append(table.loc[idx, 'ROT [s]'])\n",
    "    if len(valid_rot_values_total_same_ac_type) > 0:\n",
    "        table.loc[i, 'Average ROT Previous Flight same A/C Type Total [s]'] = sum(valid_rot_values_total_same_ac_type) / len(valid_rot_values_total_same_ac_type)\n"
   ]
  },
  {
   "cell_type": "markdown",
   "metadata": {},
   "source": [
    "##### Rename the columns"
   ]
  },
  {
   "cell_type": "code",
   "execution_count": 54,
   "metadata": {},
   "outputs": [],
   "source": [
    "table = table.rename(columns={\n",
    "    'icao24': 'ICAO 24',\n",
    "    'icaoaircrafttype': 'ICAO Aircraft Type',\n",
    "    'ICAO_WTC': 'ICAO Weight Turbulence Category'}\n",
    ")"
   ]
  },
  {
   "cell_type": "code",
   "execution_count": null,
   "metadata": {},
   "outputs": [],
   "source": [
    "table.columns"
   ]
  },
  {
   "cell_type": "markdown",
   "metadata": {},
   "source": [
    "### Rearrange the columns as definded at the beginning"
   ]
  },
  {
   "cell_type": "code",
   "execution_count": null,
   "metadata": {},
   "outputs": [],
   "source": [
    "table = table[columns]\n",
    "table"
   ]
  },
  {
   "cell_type": "markdown",
   "metadata": {},
   "source": [
    "##### Create a table sorted after maximum ROT time"
   ]
  },
  {
   "cell_type": "code",
   "execution_count": null,
   "metadata": {},
   "outputs": [],
   "source": [
    "table_rot_max = table.sort_values(by='ROT [s]', ascending=False)\n",
    "\n",
    "table_rot_max"
   ]
  },
  {
   "cell_type": "markdown",
   "metadata": {},
   "source": [
    "##### Create a table sorted after minimum ROT time"
   ]
  },
  {
   "cell_type": "code",
   "execution_count": null,
   "metadata": {},
   "outputs": [],
   "source": [
    "table_rot_min = table.sort_values(by='ROT [s]', ascending=True)\n",
    "\n",
    "table_rot_min"
   ]
  },
  {
   "cell_type": "code",
   "execution_count": null,
   "metadata": {},
   "outputs": [],
   "source": [
    "plt.hist(table['ROT [s]'], bins=range(30, 121), edgecolor='black')\n",
    "\n",
    "plt.title('Histogram of ROT Values')\n",
    "plt.xlabel('ROT [s]')\n",
    "plt.ylabel('Number of occurrences')\n",
    "plt.grid()"
   ]
  },
  {
   "cell_type": "markdown",
   "metadata": {},
   "source": [
    "### Save Table"
   ]
  },
  {
   "cell_type": "code",
   "execution_count": 60,
   "metadata": {},
   "outputs": [],
   "source": [
    "table.to_csv('final_table.csv')"
   ]
  }
 ],
 "metadata": {
  "kernelspec": {
   "display_name": ".venv",
   "language": "python",
   "name": "python3"
  },
  "language_info": {
   "codemirror_mode": {
    "name": "ipython",
    "version": 3
   },
   "file_extension": ".py",
   "mimetype": "text/x-python",
   "name": "python",
   "nbconvert_exporter": "python",
   "pygments_lexer": "ipython3",
   "version": "3.12.3"
  }
 },
 "nbformat": 4,
 "nbformat_minor": 2
}
